{
 "cells": [
  {
   "cell_type": "markdown",
   "id": "compressed-retirement",
   "metadata": {},
   "source": [
    "# Úvod do práce s jazykem R\n",
    "***\n",
    "**Mgr. Adéla Vrtková** (adela.vrtkova@vsb.cz)\n",
    "\n",
    "Lékařská fakulta, Ostravská univerzita\n",
    "\n",
    "Katedra aplikované matematiky, Fakulta elektrotechniky a informatiky, VŠB - Technická univerzita Ostrava\n",
    "***\n",
    "**Tento materiál byl vytvořen pro zvanou přednášku v rámci projektu CeBMI.**\n",
    "***\n",
    "**Zvláštní poděkování míří ke kolegům z Katedry aplikované matematiky, Fakulty elektrotechniky a informatiky, VŠB - Technické univerzity Ostrava - Ing. Martině Litschmannové, Ph.D. a Ing. Michalovi Bérešovi za jejich nápady a rady.**\n",
    "***"
   ]
  },
  {
   "cell_type": "markdown",
   "id": "listed-profit",
   "metadata": {},
   "source": [
    "## Knihovny"
   ]
  },
  {
   "cell_type": "code",
   "execution_count": 1,
   "id": "private-hanging",
   "metadata": {},
   "outputs": [],
   "source": [
    "# Instalaci knihovny je potřeba provést pouze jednou na daném počítači.\n",
    "# install.packages(\"dplyr\") # knihovna s funkcemi pro práci s datovou maticí\n",
    "# install.packages(\"ggplot2\") # knihovna s funkcemi pro pokročilou grafiku"
   ]
  },
  {
   "cell_type": "code",
   "execution_count": 3,
   "id": "regional-reset",
   "metadata": {},
   "outputs": [],
   "source": [
    "# Aktivaci knihovny je potřeba provést při každém spuštění R (příp. RStudia)\n",
    "library(dplyr) # knihovna s funkcemi pro práci s datovou maticí\n",
    "library(ggplot2) # knihovna s funkcemi pro pokročilou grafiku"
   ]
  },
  {
   "cell_type": "markdown",
   "id": "swiss-england",
   "metadata": {},
   "source": [
    "## Základní početní operace a logické operátory"
   ]
  },
  {
   "cell_type": "code",
   "execution_count": null,
   "id": "automatic-clinic",
   "metadata": {},
   "outputs": [],
   "source": [
    "# Početní operace\n",
    "2+4\n",
    "6-9\n",
    "4*2.5\n",
    "5/2\n",
    "3^7"
   ]
  },
  {
   "cell_type": "code",
   "execution_count": null,
   "id": "differential-motivation",
   "metadata": {},
   "outputs": [],
   "source": [
    "# Logické operátory - výstupem je TRUE/FALSE\n",
    "5 >= 3  # neostrá nerovnost, analogicky <=\n",
    "5 < 3   # ostrá nerovnost, analogicky >\n",
    "5 == 3  # rovnost - porovnávání (neplést si s jedním \"=\", které se používá pro ukládání proměnných)\n",
    "5 != 3  # nerovnost\n",
    "\n",
    "5 >= 3  &  6<2   # logická konjukce \"a zároveň\"\n",
    "5 >= 3  |  6<2   # logická disjunkce \"nebo\""
   ]
  },
  {
   "cell_type": "markdown",
   "id": "mineral-elimination",
   "metadata": {},
   "source": [
    "## Datové struktury\n",
    "- vector (vektor/pole - jednorozměrná struktura s prvky stejného datového typu)\n",
    "- **factor** (speciální případ vektoru - hodnoty interpretovány jako příslušnost k dané kategorii)\n",
    "- matrix (matice - dvourozměrná struktura s prvky stejného datového typu)\n",
    "- **data.frame** (datový rámec - dvourozměrná struktura, různé sloupce mohou obsahovat prvky různého dat. typu)\n",
    "- list (seznam - může obsahovat různé datové struktury)\n",
    "\n",
    "## Práce s datovým rámcem"
   ]
  },
  {
   "cell_type": "code",
   "execution_count": 1,
   "id": "female-local",
   "metadata": {},
   "outputs": [],
   "source": [
    "# Inicializace datového souboru iris, který je součástí R\n",
    "data(iris)"
   ]
  },
  {
   "cell_type": "code",
   "execution_count": null,
   "id": "revolutionary-yeast",
   "metadata": {},
   "outputs": [],
   "source": [
    "# Náhled na prvních šest řádků \n",
    "head(iris)"
   ]
  },
  {
   "cell_type": "code",
   "execution_count": 3,
   "id": "nasty-heading",
   "metadata": {},
   "outputs": [],
   "source": [
    "# Nápověda k datasetu\n",
    "?iris"
   ]
  },
  {
   "cell_type": "markdown",
   "id": "willing-picking",
   "metadata": {},
   "source": [
    "Každý řádek datasetu obsahuje informace o jedné statistické jednotce (zde květina - kosatec). Ve sloupcích jsou uvedeny jednotlivé údaje k dané statistické jednotce - tzv. proměnné (znaky, atributy). Proměnné rozlišujeme dle jejich typu - kvantitativní (též numerická) a kvalitativní (též kategoriální), dle tohoto typu je vhodné proměnné i zakódovat."
   ]
  },
  {
   "cell_type": "code",
   "execution_count": null,
   "id": "individual-poison",
   "metadata": {},
   "outputs": [],
   "source": [
    "# Znova si prohlédněte dataset a všimněte si kódování pod názvy jednotlivých proměnných\n",
    "head(iris)"
   ]
  },
  {
   "cell_type": "markdown",
   "id": "banner-psychology",
   "metadata": {},
   "source": [
    "Každou kvalitativní (kategoriální) proměnnou je vhodné mít pod typem **factor**, který jednotlivé hodnoty vnímá jako příslušnosti k definovaným kategoriím. Na místě je také vždy zvážit pořadí jednotlivých kategorií, které lze samozřejmě změnit, je-li potřeba."
   ]
  },
  {
   "cell_type": "code",
   "execution_count": null,
   "id": "systematic-friendly",
   "metadata": {},
   "outputs": [],
   "source": [
    "# Věnujte pozornost sloupci Species - obzvlášť dolní části výstupu (Levels)\n",
    "iris$Species"
   ]
  },
  {
   "cell_type": "code",
   "execution_count": null,
   "id": "overall-cleaning",
   "metadata": {},
   "outputs": [],
   "source": [
    "class(iris$Species)"
   ]
  },
  {
   "cell_type": "code",
   "execution_count": null,
   "id": "aware-empty",
   "metadata": {},
   "outputs": [],
   "source": [
    "is.factor(iris$Species)"
   ]
  },
  {
   "cell_type": "markdown",
   "id": "unknown-consultation",
   "metadata": {},
   "source": [
    "Každou kvantitativní (numerickou) proměnnou je vhodné mít pod typem **double** nebo **numeric**. I toto je vhodné zkontrolovat, obzvlášť jsou-li data importována např. ze souboru csv nebo xlsx, kdy nesprávným nastavením importu může dojít k tomu, že čísla budou importována jako řetězce (text)."
   ]
  },
  {
   "cell_type": "code",
   "execution_count": null,
   "id": "southern-fountain",
   "metadata": {},
   "outputs": [],
   "source": [
    "class(iris$Sepal.Length)"
   ]
  },
  {
   "cell_type": "code",
   "execution_count": null,
   "id": "irish-radio",
   "metadata": {},
   "outputs": [],
   "source": [
    "is.double(iris$Sepal.Length)\n",
    "is.numeric(iris$Sepal.Length)"
   ]
  },
  {
   "cell_type": "markdown",
   "id": "portable-exhaust",
   "metadata": {},
   "source": [
    "Tzv. **preprocessing dat** bývá jednou z nejdůležitějších a často nejdéle trvajících věcí. Dostat data do standardního datového rámce (datové matice), provést očištění od zjevně chybných hodnot, vypořádat se s chybějícími nebo odlehlými hodnotami, je-li nutné provést transformaci, normalizaci či standardizaci - to vše jsou naprosto nezbytné kroky, které musí být provedeny naprosto uvědoměle a transparentně, aby jakákoliv další analýza byla vůbec relevantní.\n",
    "\n",
    "**Až po řádném preprocessingu dat můžou nastat ta pravá kouzla s daty!**"
   ]
  },
  {
   "cell_type": "code",
   "execution_count": null,
   "id": "guided-eleven",
   "metadata": {},
   "outputs": [],
   "source": []
  }
 ],
 "metadata": {
  "kernelspec": {
   "display_name": "R",
   "language": "R",
   "name": "ir"
  },
  "language_info": {
   "codemirror_mode": "r",
   "file_extension": ".r",
   "mimetype": "text/x-r-source",
   "name": "R",
   "pygments_lexer": "r",
   "version": "4.0.3"
  }
 },
 "nbformat": 4,
 "nbformat_minor": 5
}
