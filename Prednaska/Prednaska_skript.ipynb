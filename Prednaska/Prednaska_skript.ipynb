{
 "cells": [
  {
   "cell_type": "markdown",
   "id": "compressed-retirement",
   "metadata": {},
   "source": [
    "# Analýza biomedicínských dat - bílá nebo černá magie?\n",
    "***\n",
    "**Mgr. Adéla Vrtková** (adela.vrtkova@vsb.cz)\n",
    "\n",
    "Lékařská fakulta, Ostravská univerzita\n",
    "\n",
    "Katedra aplikované matematiky, Fakulta elektrotechniky a informatiky, VŠB - Technická univerzita Ostrava\n",
    "***\n",
    "**Tento materiál byl vytvořen pro zvanou přednášku v rámci projektu CeBMI.**\n",
    "***\n",
    "**Zvláštní poděkování míří ke kolegům z Katedry aplikované matematiky, Fakulty elektrotechniky a informatiky, VŠB - Technické univerzity Ostrava - Ing. Martině Litschmannové, Ph.D. a Ing. Michalovi Bérešovi za jejich nápady a rady.**\n",
    "***"
   ]
  },
  {
   "cell_type": "code",
   "execution_count": null,
   "id": "legitimate-consolidation",
   "metadata": {},
   "outputs": [],
   "source": [
    "# Příprava prostředí\n",
    "library(readxl)\n",
    "library(ggplot2)\n",
    "library(dplyr)\n",
    "library(tidyr)\n",
    "\n",
    "# Nastavení vykreslování grafů pro jupyter notebook\n",
    "options(repr.plot.width = 10, repr.plot.height = 8)"
   ]
  },
  {
   "cell_type": "markdown",
   "id": "korean-valuation",
   "metadata": {},
   "source": [
    "#### Popis datového souboru\n",
    "Kachexie označuje stav silné celkové sešlosti jedince spojené s úbytkem váhy a výraznou slabostí. Většinou je následkem vážných nádorových onemocnění nebo těžkých infekcí. V tomto kontextu vědci často zkoumají složení krve v závislosti na onemocnění pacienta a na výskytu kachexie.\n",
    "\n",
    "V datovém souboru najdete údaje o onkologických pacientech s rakovinou plic s kachexií a bez projevů kachexie. Zároveň jsou v datech údaje i o třetí skupině – a to kontrolní skupině zdravých pacientů, tj. bez rakoviny i bez kachexie. U všech pacientů byla měřena hladina hormonu rezistinu (ng/ml).\n",
    "\n",
    "U onkologických pacientů byla hladina rezistinu změřena při vstupní prohlídce a poté 3 měsíce po chemoterapii. U pacientů z kontrolní skupiny byl rezistin změřen pouze při vstupní prohlídce.\n",
    "\n",
    "Skupina onkologických pacientů s kachexií je v datech kódována jako „RK“. Skupina onkologických pacientů bez kachexie je kódována „RBK“ a kontrolní skupina jako „KONT“. U onkologických pacientů je navíc uvedeno stádium rakoviny (na škále 0, I, II, III, IV).\n"
   ]
  },
  {
   "cell_type": "code",
   "execution_count": null,
   "id": "regional-reset",
   "metadata": {},
   "outputs": [],
   "source": [
    "# Import dat, která jsou ve std. datovém formátu\n",
    "data <- read_excel(\"data_kachexie.xlsx\")"
   ]
  },
  {
   "cell_type": "code",
   "execution_count": null,
   "id": "military-metadata",
   "metadata": {},
   "outputs": [],
   "source": [
    "head(data)"
   ]
  },
  {
   "cell_type": "code",
   "execution_count": null,
   "id": "abstract-martin",
   "metadata": {},
   "outputs": [],
   "source": [
    "tail(data)"
   ]
  },
  {
   "cell_type": "markdown",
   "id": "lasting-joshua",
   "metadata": {},
   "source": [
    "## Vizualizace – mocná čarodějka\n",
    "### Seznamte se, ggplot2"
   ]
  },
  {
   "cell_type": "markdown",
   "id": "separated-sociology",
   "metadata": {},
   "source": [
    "Základní fungování ggplot2 je pomocí vrstev.\n",
    "***\n",
    "Nejprve definujeme **\"estetiku\"** (aesthetics - aes):\n",
    "- Důležitá část, kde specifikujeme proměnnou na ose x a/nebo na ose y.\n",
    "- Lze ale i určit parametr, který ovlivní velikost (size) nebo barvu (color) vykreslených objektů (např. bodů).\n",
    "- Dalšími parametry v estetice jsou - fill, linetype, label, shape a další...\n",
    "***\n",
    "Následuje určení **\"geometrie\"** (geometries - geom_???):\n",
    "- Tato část definuje, jak se mají data znázornit.\n",
    "- Např. jako body (geom_point), čáry (geom_line), krabicové grafy (geom_boxplot), sloupcové grafy (geom_bar),...\n",
    "- Je třeba uvážit typ dat a na základě toho, jakou chceme informaci předat, zvolit geometrii.\n",
    "- Různé \"geom\" lze i kombinovat, má-li to smysl.\n",
    "***\n",
    "V dalších vrstvách lze nastavovat:\n",
    "- rozdělení na tzv. **\"facets\"** (mřížka grafů),\n",
    "- zakomponování \"statistiky\" - vrstva **\"statistics\"** - např. přidání trendu, vykreslení průměru jako bodu apod.,\n",
    "- vrstvu **\"coordinates\"** měřítka os, změnit je na logaritmické, apod.,\n",
    "- změnit vzhled pomocí definovaných grafických témat - vrstva **\"theme\"** - případně si nastavit své vlastní.\n",
    "    \n",
    "https://www.rstudio.com/wp-content/uploads/2015/03/ggplot2-cheatsheet.pdf"
   ]
  },
  {
   "cell_type": "code",
   "execution_count": null,
   "id": "compliant-bahamas",
   "metadata": {},
   "outputs": [],
   "source": [
    "# Příprava \"tidy\" dat ze standardního datového formátu\n",
    "# Sledovaný cíl: Analyzovat (vizualizovat) vývoj hladiny rezistinu od vstupní prohlídky k prohlídce po 3 měsících\n",
    "data_tidy = \n",
    "        data %>% \n",
    "              pivot_longer(cols = c(\"Rezistin_vstup\", \"Rezistin_3M\"), \n",
    "                           names_to = \"Prohlidka\", \n",
    "                           values_to = \"Rezistin\")"
   ]
  },
  {
   "cell_type": "code",
   "execution_count": null,
   "id": "lesbian-prophet",
   "metadata": {},
   "outputs": [],
   "source": [
    "head(data_tidy)"
   ]
  },
  {
   "cell_type": "code",
   "execution_count": null,
   "id": "published-childhood",
   "metadata": {},
   "outputs": [],
   "source": [
    "tail(data_tidy)"
   ]
  },
  {
   "cell_type": "code",
   "execution_count": null,
   "id": "conventional-surgery",
   "metadata": {},
   "outputs": [],
   "source": [
    "# Překódování nové proměnné Prohlidka dle potřeby\n",
    "data_tidy$Prohlidka = factor(data_tidy$Prohlidka, \n",
    "                             levels = c(\"Rezistin_vstup\", \"Rezistin_3M\"),\n",
    "                             labels = c(\"Vstup\",\"3 měsíce\"))"
   ]
  },
  {
   "cell_type": "markdown",
   "id": "completed-assumption",
   "metadata": {},
   "source": [
    "Uvědomme si, že struktura *data_tidy* neodpovídá tomu, čemu říkáme standardní datový formát. Proto je vždy důležité vědět, co data znamenají a mít v nich nějaký identifikátor, pomocí kterého jsme schopni zpětně data zrekonstruovat do std. datového formátu, tzn. \"spárovat\" si údaje pro jednu stat. jednotku (zde je stat. jednotkou pacient)."
   ]
  },
  {
   "cell_type": "markdown",
   "id": "employed-field",
   "metadata": {},
   "source": [
    "### Síla krabicových grafů"
   ]
  },
  {
   "cell_type": "code",
   "execution_count": null,
   "id": "limiting-feeling",
   "metadata": {},
   "outputs": [],
   "source": [
    "ggplot(data_tidy, aes(x = Prohlidka, y = Rezistin)) +\n",
    "  geom_boxplot()+ \n",
    "  stat_summary(geom = \"point\", fun.y = \"mean\", colour = \"red\", size = 4)"
   ]
  },
  {
   "cell_type": "code",
   "execution_count": null,
   "id": "august-large",
   "metadata": {},
   "outputs": [],
   "source": [
    "ggplot(data_tidy, aes(x = Prohlidka, y = Rezistin, fill = Skupina)) +\n",
    "  geom_boxplot()"
   ]
  },
  {
   "cell_type": "code",
   "execution_count": null,
   "id": "furnished-council",
   "metadata": {},
   "outputs": [],
   "source": [
    "ggplot(data_tidy, aes(x = Prohlidka, y = Rezistin, color = Skupina)) +\n",
    "  geom_boxplot()"
   ]
  },
  {
   "cell_type": "code",
   "execution_count": null,
   "id": "duplicate-fleet",
   "metadata": {},
   "outputs": [],
   "source": [
    "ggplot(data_tidy, aes(x = interaction(Prohlidka, Skupina), y = Rezistin)) +\n",
    "  geom_boxplot()"
   ]
  },
  {
   "cell_type": "code",
   "execution_count": null,
   "id": "progressive-adams",
   "metadata": {},
   "outputs": [],
   "source": [
    "ggplot(data_tidy, aes(x = Prohlidka, y = Rezistin)) +\n",
    "  geom_boxplot(alpha = 0.5) +\n",
    "  geom_line(aes(group = ID), size = 0.2)+\n",
    "  geom_point(size = 0.8)+\n",
    "  facet_wrap(\"Skupina\", dir = \"h\")"
   ]
  },
  {
   "cell_type": "code",
   "execution_count": null,
   "id": "detected-height",
   "metadata": {},
   "outputs": [],
   "source": []
  }
 ],
 "metadata": {
  "kernelspec": {
   "display_name": "R",
   "language": "R",
   "name": "ir"
  },
  "language_info": {
   "codemirror_mode": "r",
   "file_extension": ".r",
   "mimetype": "text/x-r-source",
   "name": "R",
   "pygments_lexer": "r",
   "version": "4.0.3"
  }
 },
 "nbformat": 4,
 "nbformat_minor": 5
}
