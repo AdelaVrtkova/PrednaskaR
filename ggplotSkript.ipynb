{
 "cells": [
  {
   "cell_type": "markdown",
   "metadata": {},
   "source": [
    "R Code pulled from https://www.statmethods.net/advgraphs/ggplot2.html"
   ]
  },
  {
   "cell_type": "code",
   "execution_count": null,
   "metadata": {},
   "outputs": [],
   "source": [
    "# ggplot2 examples\n",
    "library(ggplot2) "
   ]
  },
  {
   "cell_type": "code",
   "execution_count": null,
   "metadata": {},
   "outputs": [],
   "source": [
    "# create factors with value labels \n",
    "mtcars$gear <- factor(mtcars$gear,levels=c(3,4,5),\n",
    "  \tlabels=c(\"3gears\",\"4gears\",\"5gears\")) \n",
    "mtcars$am <- factor(mtcars$am,levels=c(0,1),\n",
    "  \tlabels=c(\"Automatic\",\"Manual\")) \n",
    "mtcars$cyl <- factor(mtcars$cyl,levels=c(4,6,8),\n",
    "   labels=c(\"4cyl\",\"6cyl\",\"8cyl\")) "
   ]
  },
  {
   "cell_type": "code",
   "execution_count": null,
   "metadata": {},
   "outputs": [],
   "source": [
    "# Kernel density plots for mpg\n",
    "# grouped by number of gears (indicated by color)\n",
    "qplot(mpg, data=mtcars, geom=\"density\", fill=gear, alpha=I(.5), \n",
    "   main=\"Distribution of Gas Milage\", xlab=\"Miles Per Gallon\", \n",
    "   ylab=\"Density\")"
   ]
  },
  {
   "cell_type": "code",
   "execution_count": null,
   "metadata": {},
   "outputs": [],
   "source": [
    "# Scatterplot of mpg vs. hp for each combination of gears and cylinders\n",
    "# in each facet, transmittion type is represented by shape and color\n",
    "qplot(hp, mpg, data=mtcars, shape=am, color=am, \n",
    "   facets=gear~cyl, size=I(3),\n",
    "   xlab=\"Horsepower\", ylab=\"Miles per Gallon\") "
   ]
  },
  {
   "cell_type": "code",
   "execution_count": null,
   "metadata": {},
   "outputs": [],
   "source": [
    "# Separate regressions of mpg on weight for each number of cylinders\n",
    "qplot(wt, mpg, data=mtcars, geom=c(\"point\", \"smooth\"), \n",
    "   method=\"lm\", formula=y~x, color=cyl, \n",
    "   main=\"Regression of MPG on Weight\", \n",
    "   xlab=\"Weight\", ylab=\"Miles per Gallon\")"
   ]
  },
  {
   "cell_type": "code",
   "execution_count": null,
   "metadata": {},
   "outputs": [],
   "source": [
    "# Boxplots of mpg by number of gears \n",
    "# observations (points) are overlayed and jittered\n",
    "qplot(gear, mpg, data=mtcars, geom=c(\"boxplot\", \"jitter\"), \n",
    "   fill=gear, main=\"Mileage by Gear Number\",\n",
    "   xlab=\"\", ylab=\"Miles per Gallon\")"
   ]
  },
  {
   "cell_type": "code",
   "execution_count": null,
   "metadata": {},
   "outputs": [],
   "source": []
  }
 ],
 "metadata": {
  "kernelspec": {
   "display_name": "R",
   "language": "R",
   "name": "ir"
  },
  "language_info": {
   "codemirror_mode": "r",
   "file_extension": ".r",
   "mimetype": "text/x-r-source",
   "name": "R",
   "pygments_lexer": "r",
   "version": "4.0.3"
  }
 },
 "nbformat": 4,
 "nbformat_minor": 2
}
