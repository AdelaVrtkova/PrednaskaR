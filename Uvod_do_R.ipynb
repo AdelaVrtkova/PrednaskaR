{
 "cells": [
  {
   "cell_type": "markdown",
   "id": "compressed-retirement",
   "metadata": {},
   "source": [
    "# Úvod do práce s jazykem R\n",
    "***\n",
    "**Mgr. Adéla Vrtková** (adela.vrtkova@vsb.cz)\n",
    "\n",
    "Lékařská fakulta, Ostravská univerzita\n",
    "\n",
    "Katedra aplikované matematiky, Fakulta elektrotechniky a informatiky, VŠB - Technická univerzita Ostrava\n",
    "***\n",
    "**Tento materiál byl vytvořen pro zvanou přednášku v rámci projektu CeBMI.**\n",
    "***\n",
    "**Zvláštní poděkování míří ke kolegům z Katedry aplikované matematiky, Fakulty elektrotechniky a informatiky, VŠB - Technické univerzity Ostrava - Ing. Martině Litschmannové, Ph.D. a Ing. Michalovi Bérešovi za jejich nápady a rady.**\n",
    "***"
   ]
  },
  {
   "cell_type": "markdown",
   "id": "listed-profit",
   "metadata": {},
   "source": [
    "## Knihovny"
   ]
  },
  {
   "cell_type": "code",
   "execution_count": 1,
   "id": "private-hanging",
   "metadata": {},
   "outputs": [],
   "source": [
    "# Instalaci knihovny je potřeba provést pouze jednou na daném počítači.\n",
    "# install.packages(\"dplyr\") # knihovna s funkcemi pro práci s datovou maticí\n",
    "# install.packages(\"ggplot2\") # knihovna s funkcemi pro pokročilou grafiku"
   ]
  },
  {
   "cell_type": "code",
   "execution_count": 3,
   "id": "regional-reset",
   "metadata": {},
   "outputs": [],
   "source": [
    "# Aktivaci knihovny je potřeba provést při každém spuštění R (příp. RStudia)\n",
    "library(dplyr) # knihovna s funkcemi pro práci s datovou maticí\n",
    "library(ggplot2) # knihovna s funkcemi pro pokročilou grafiku"
   ]
  },
  {
   "cell_type": "markdown",
   "id": "swiss-england",
   "metadata": {},
   "source": [
    "## Základní početní operace a logické operátory"
   ]
  },
  {
   "cell_type": "code",
   "execution_count": null,
   "id": "automatic-clinic",
   "metadata": {},
   "outputs": [],
   "source": [
    "# Početní operace\n",
    "2+4\n",
    "6-9\n",
    "4*2.5\n",
    "5/2\n",
    "3^7"
   ]
  },
  {
   "cell_type": "code",
   "execution_count": null,
   "id": "differential-motivation",
   "metadata": {},
   "outputs": [],
   "source": [
    "# Logické operátory - výstupem je TRUE/FALSE\n",
    "5 >= 3  # neostrá nerovnost, analogicky <=\n",
    "5 < 3   # ostrá nerovnost, analogicky >\n",
    "5 == 3  # rovnost - porovnávání (neplést si s jedním \"=\", které se používá pro ukládání proměnných)\n",
    "5 != 3  # nerovnost\n",
    "\n",
    "5 >= 3  &  6<2   # logická konjukce \"a zároveň\"\n",
    "5 >= 3  |  6<2   # logická disjunkce \"nebo\""
   ]
  },
  {
   "cell_type": "markdown",
   "id": "mineral-elimination",
   "metadata": {},
   "source": [
    "## Datové struktury\n",
    "- vector (vektor/pole - jednorozměrná struktura s prvky stejného datového typu)\n",
    "- **factor** (speciální případ vektoru - hodnoty interpretovány jako příslušnost k dané kategorii)\n",
    "- matrix (matice - dvourozměrná struktura s prvky stejného datového typu)\n",
    "- **data.frame** (datový rámec - dvourozměrná struktura, různé sloupce mohou obsahovat prvky různého dat. typu)\n",
    "- list (seznam - může obsahovat různé datové struktury)\n",
    "\n",
    "## Práce s datovým rámcem a nejdůležitější souvislosti"
   ]
  },
  {
   "cell_type": "code",
   "execution_count": null,
   "id": "female-local",
   "metadata": {},
   "outputs": [],
   "source": []
  }
 ],
 "metadata": {
  "kernelspec": {
   "display_name": "R",
   "language": "R",
   "name": "ir"
  },
  "language_info": {
   "codemirror_mode": "r",
   "file_extension": ".r",
   "mimetype": "text/x-r-source",
   "name": "R",
   "pygments_lexer": "r",
   "version": "4.0.3"
  }
 },
 "nbformat": 4,
 "nbformat_minor": 5
}
